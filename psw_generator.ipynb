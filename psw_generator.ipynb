{
 "cells": [
  {
   "cell_type": "markdown",
   "id": "9171979d-9419-40bf-81a6-bc31e9100808",
   "metadata": {},
   "source": [
    "# 🔑 Password Generator\n",
    "![purple-divider](https://user-images.githubusercontent.com/7065401/52071927-c1cd7100-2562-11e9-908a-dde91ba14e59.png)"
   ]
  },
  {
   "cell_type": "code",
   "execution_count": 42,
   "id": "a43f3f10-786e-470d-94f3-5de9512eabef",
   "metadata": {},
   "outputs": [
    {
     "name": "stdout",
     "output_type": "stream",
     "text": [
      "    Description         Password\n",
      "0      Facebook  %q8jM&e3dZ%T5I6\n",
      "1         Gmail  %cAPNsBz3ybA9R8\n",
      "2       Twitter  khFg8vL2siooD-@\n",
      "3      LinkedIn  2enm9p^bbdD+mG!\n",
      "4  Bank account  eV(UQ(0K7fKqXW*\n",
      "5      Whatever  AvXBbd@VufZxPqo\n",
      "Passwords saved to passwords.txt file.\n"
     ]
    }
   ],
   "source": [
    "import random\n",
    "import pandas as pd\n",
    "\n",
    "# function to generate a random password\n",
    "def generate_pwd(length):\n",
    "    characters = \"bcdefghijklmnopqrstuvwxyzABCDEFGHIJKLMNOPQRSTUVWXYZ0123456789!@#$%^&*()_+=-\"\n",
    "    pwd = \"\".join(random.choices(characters, k=length))\n",
    "    return pwd\n",
    "\n",
    "# list of accounts\n",
    "descriptions = [\"Facebook\", \"Gmail\", \"Twitter\", \"LinkedIn\", \"Bank account\", \"Whatever\"]\n",
    "\n",
    "# generate passwords each account with a length of 15 characters and assign an account description\n",
    "pwds = [(description, generate_pwd(15)) for description in descriptions]\n",
    "\n",
    "df = pd.DataFrame(pwds, columns=[\"Description\", \"Password\"])\n",
    "\n",
    "print(df)\n",
    "\n",
    "# Save passwords to a text file\n",
    "with open(\"passwords.txt\", \"w\") as file:\n",
    "    for row in pwds:\n",
    "        file.write(f\"{row[0]}: {row[1]}\\n\")\n",
    "\n",
    "print(\"Passwords saved to passwords.txt file.\")\n"
   ]
  }
 ],
 "metadata": {
  "kernelspec": {
   "display_name": "Python 3 (ipykernel)",
   "language": "python",
   "name": "python3"
  },
  "language_info": {
   "codemirror_mode": {
    "name": "ipython",
    "version": 3
   },
   "file_extension": ".py",
   "mimetype": "text/x-python",
   "name": "python",
   "nbconvert_exporter": "python",
   "pygments_lexer": "ipython3",
   "version": "3.9.13"
  }
 },
 "nbformat": 4,
 "nbformat_minor": 5
}
